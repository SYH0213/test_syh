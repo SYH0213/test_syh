{
 "cells": [
  {
   "cell_type": "code",
   "execution_count": 7,
   "id": "bae2b811",
   "metadata": {},
   "outputs": [],
   "source": [
    "!pip install openai-whisper\n"
   ]
  },
  {
   "cell_type": "code",
   "execution_count": null,
   "id": "c1df4df8",
   "metadata": {},
   "outputs": [],
   "source": [
    "import whisper\n",
    "\n",
    "# 모델 로드\n",
    "model = whisper.load_model(\"large\")\n",
    "\n",
    "# 오디오 파일을 텍스트로 변환\n",
    "result = model.transcribe(\"data/회의록2.wav\")\n",
    "\n",
    "# 변환된 텍스트 출력\n",
    "print(result[\"text\"])\n"
   ]
  }
 ],
 "metadata": {
  "kernelspec": {
   "display_name": "sesacproject",
   "language": "python",
   "name": "python3"
  },
  "language_info": {
   "codemirror_mode": {
    "name": "ipython",
    "version": 3
   },
   "file_extension": ".py",
   "mimetype": "text/x-python",
   "name": "python",
   "nbconvert_exporter": "python",
   "pygments_lexer": "ipython3",
   "version": "3.11.9"
  }
 },
 "nbformat": 4,
 "nbformat_minor": 5
}
